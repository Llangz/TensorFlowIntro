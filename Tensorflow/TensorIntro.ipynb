{
 "cells": [
  {
   "cell_type": "code",
   "execution_count": 24,
   "metadata": {},
   "outputs": [],
   "source": [
    "import tensorflow as tf\n",
    "tf.logging.set_verbosity(tf.logging.ERROR)\n",
    "import numpy as np\n",
    "import matplotlib.pyplot as plt\n",
    "import keras\n",
    "from tensorflow.keras import layers\n",
    "from keras.layers import Dense"
   ]
  },
  {
   "cell_type": "markdown",
   "metadata": {},
   "source": [
    "# Tensorflow Model to train a conversion from kilometers to miles"
   ]
  },
  {
   "cell_type": "code",
   "execution_count": 13,
   "metadata": {},
   "outputs": [],
   "source": [
    "#List for both kilometers and miles\n",
    "kms_a = np.array([10, 15, 20, 23, 29, 30, 35, 39, 40], dtype=float)\n",
    "miles_b = np.array([6.2, 9.3, 12.4, 14.3, 18.0, 18.6, 21.7, 24.4, 24.9], dtype=float)"
   ]
  },
  {
   "cell_type": "code",
   "execution_count": 14,
   "metadata": {},
   "outputs": [],
   "source": [
    "#Iterating through the list and printing out the corresponding values"
   ]
  },
  {
   "cell_type": "code",
   "execution_count": 15,
   "metadata": {},
   "outputs": [
    {
     "name": "stdout",
     "output_type": "stream",
     "text": [
      "10.0 Kilometers = 6.2 Miles\n",
      "15.0 Kilometers = 9.3 Miles\n",
      "20.0 Kilometers = 12.4 Miles\n",
      "23.0 Kilometers = 14.3 Miles\n",
      "29.0 Kilometers = 18.0 Miles\n",
      "30.0 Kilometers = 18.6 Miles\n",
      "35.0 Kilometers = 21.7 Miles\n",
      "39.0 Kilometers = 24.4 Miles\n",
      "40.0 Kilometers = 24.9 Miles\n"
     ]
    }
   ],
   "source": [
    "for i, c in enumerate(kms_a):\n",
    "    print (\"{} Kilometers = {} Miles\".format(c, miles_b[i]))"
   ]
  },
  {
   "cell_type": "markdown",
   "metadata": {},
   "source": [
    "# Dense Network with a single layer and a single Neuron"
   ]
  },
  {
   "cell_type": "code",
   "execution_count": 19,
   "metadata": {},
   "outputs": [
    {
     "data": {
      "text/plain": [
       "<tensorflow.python.keras.engine.sequential.Sequential at 0x1e869df28d0>"
      ]
     },
     "execution_count": 19,
     "metadata": {},
     "output_type": "execute_result"
    }
   ],
   "source": [
    "D1 = tf.keras.layers.Dense(units=1, input_shape=[1])\n",
    "tf.keras.Sequential([D1])"
   ]
  },
  {
   "cell_type": "code",
   "execution_count": 28,
   "metadata": {},
   "outputs": [],
   "source": [
    "model= tf.keras.Sequential([D1])"
   ]
  },
  {
   "cell_type": "code",
   "execution_count": 30,
   "metadata": {},
   "outputs": [],
   "source": [
    "model.compile(loss='mean_squared_error',\n",
    "              optimizer=tf.keras.optimizers.Adam(0.1))"
   ]
  },
  {
   "cell_type": "code",
   "execution_count": 31,
   "metadata": {},
   "outputs": [
    {
     "name": "stdout",
     "output_type": "stream",
     "text": [
      "The Model has Finished Training\n"
     ]
    }
   ],
   "source": [
    "history = model.fit(kms_a, miles_b, epochs=500, verbose=False)\n",
    "print('The Model has Finished Training')"
   ]
  },
  {
   "cell_type": "code",
   "execution_count": 34,
   "metadata": {},
   "outputs": [
    {
     "data": {
      "image/png": "[encoded data removed]",
      "text/plain": [
       "<Figure size 432x288 with 1 Axes>"
      ]
     },
     "metadata": {
      "needs_background": "dark"
     },
     "output_type": "display_data"
    }
   ],
   "source": [
    "plt.xlabel('Epoch Number', color='black')\n",
    "plt.ylabel(\"Loss magnitude\", color='black')\n",
    "plt.plot(history.history['loss'])\n",
    "plt.xticks(color='white')\n",
    "plt.yticks(color='white')\n",
    "plt.show()"
   ]
  },
  {
   "cell_type": "markdown",
   "metadata": {},
   "source": [
    "# Now we have a trained model. Use it to predict the value of a distance not in the data"
   ]
  },
  {
   "cell_type": "code",
   "execution_count": 35,
   "metadata": {},
   "outputs": [
    {
     "name": "stdout",
     "output_type": "stream",
     "text": [
      "[[41.72275]]\n"
     ]
    }
   ],
   "source": [
    "print(model.predict([67]))"
   ]
  },
  {
   "cell_type": "code",
   "execution_count": 38,
   "metadata": {},
   "outputs": [
    {
     "name": "stdout",
     "output_type": "stream",
     "text": [
      "10 Kilometers equals 6.2 Miles, Model Predicted [6.18860102] Miles, Diff_squared is [0.00012994]\n",
      "20 Kilometers equals 12.4 Miles, Model Predicted [12.42266273] Miles, Diff_squared is [0.0005136]\n",
      "30 Kilometers equals 18.6 Miles, Model Predicted [18.65672302] Miles, Diff_squared is [0.0032175]\n",
      "40 Kilometers equals 24.8 Miles, Model Predicted [24.89078522] Miles, Diff_squared is [0.00824196]\n",
      "50 Kilometers equals 31.0 Miles, Model Predicted [31.1248455] Miles, Diff_squared is [0.0155864]\n",
      "60 Kilometers equals 37.2 Miles, Model Predicted [37.35890579] Miles, Diff_squared is [0.02525105]\n",
      "70 Kilometers equals 43.4 Miles, Model Predicted [43.59296799] Miles, Diff_squared is [0.03723664]\n",
      "80 Kilometers equals 49.6 Miles, Model Predicted [49.82703018] Miles, Diff_squared is [0.0515427]\n",
      "90 Kilometers equals 55.8 Miles, Model Predicted [56.06108856] Miles, Diff_squared is [0.06816724]\n",
      "100 Kilometers equals 62.0 Miles, Model Predicted [62.29515076] Miles, Diff_squared is [0.08711397]\n",
      "Total MSE is [0.0297001]\n",
      "None\n"
     ]
    }
   ],
   "source": [
    "#creating a simple method that takes a list of kilometers and then we use our model to predict the values in miles\n",
    "\n",
    "def test_model(model):\n",
    "    MSE = []\n",
    "    xx, yy = [], []\n",
    "    for x in range (10, 110, 10):\n",
    "        y_hat = model.predict([x]).astype(float)\n",
    "        y_hat = y_hat[0]\n",
    "        y = x * 0.62\n",
    "        error_squ = (y_hat - y)**2\n",
    "        MSE.append(error_squ)\n",
    "        print('{} Kilometers equals {} Miles, Model Predicted {} Miles, Diff_squared is {}'.format(x, y, y_hat, error_squ))\n",
    "    MSE = sum(MSE) / len(MSE)\n",
    "    print('Total MSE is {}'.format(MSE))\n",
    "print(test_model(model))\n",
    "        "
   ]
  },
  {
   "cell_type": "markdown",
   "metadata": {},
   "source": [
    "# Lets have a look at the internal variables (layer weights) of the Dense layer"
   ]
  },
  {
   "cell_type": "code",
   "execution_count": 39,
   "metadata": {},
   "outputs": [
    {
     "name": "stdout",
     "output_type": "stream",
     "text": [
      "These are the layer variables: [array([[0.6234061]], dtype=float32), array([-0.04546018], dtype=float32)]\n"
     ]
    }
   ],
   "source": [
    "print('These are the layer variables: {}'.format(D1.get_weights()))"
   ]
  },
  {
   "cell_type": "markdown",
   "metadata": {},
   "source": [
    "# Let's see what happens if we add more layers and a little more complexity"
   ]
  },
  {
   "cell_type": "code",
   "execution_count": 41,
   "metadata": {},
   "outputs": [
    {
     "name": "stdout",
     "output_type": "stream",
     "text": [
      "The Model has Finished Training\n",
      "These are the D1 variables: [array([[-0.24973422,  0.09817902, -0.19271041, -0.94386595]],\n",
      "      dtype=float32), array([-0.60414237, -1.1097032 , -0.7089135 ,  0.49638954], dtype=float32)]\n",
      "These are the D2 variables: [array([[-0.0834334 , -0.14481024, -0.18656082,  0.65223527],\n",
      "       [-0.28489366, -0.8587704 , -0.69100326, -0.2255957 ],\n",
      "       [-0.21759862,  0.03058117, -0.6340681 ,  0.7488969 ],\n",
      "       [ 1.1324315 ,  0.13824011,  0.2376692 , -0.77752244]],\n",
      "      dtype=float32), array([-0.14268377, -0.5060223 , -0.47710362,  0.6350167 ], dtype=float32)]\n",
      "These are the D3 variables: [array([[-0.6076388 ],\n",
      "       [-0.10806687],\n",
      "       [-0.0426558 ],\n",
      "       [-0.07213625]], dtype=float32), array([0.5704236], dtype=float32)]\n"
     ]
    }
   ],
   "source": [
    "D1 = tf.keras.layers.Dense(units = 4, input_shape=[1])\n",
    "D2 = tf.keras.layers.Dense(units = 4)\n",
    "D3 = tf.keras.layers.Dense(units = 1)\n",
    "model = tf.keras.Sequential([D1, D2, D3])\n",
    "model.compile(loss='mean_squared_error', optimizer=tf.keras.optimizers.Adam(0.1))\n",
    "model.fit(kms_a, miles_b, epochs=500, verbose=False)\n",
    "print('The Model has Finished Training')\n",
    "print('These are the D1 variables: {}'.format(D1.get_weights()))\n",
    "print('These are the D2 variables: {}'.format(D2.get_weights()))\n",
    "print('These are the D3 variables: {}'.format(D3.get_weights()))"
   ]
  },
  {
   "cell_type": "code",
   "execution_count": 42,
   "metadata": {},
   "outputs": [
    {
     "name": "stdout",
     "output_type": "stream",
     "text": [
      "10 Kilometers equals 6.2 Miles, Model Predicted [6.16919422] Miles, Diff_squared is [0.000949]\n",
      "20 Kilometers equals 12.4 Miles, Model Predicted [12.41280365] Miles, Diff_squared is [0.00016393]\n",
      "30 Kilometers equals 18.6 Miles, Model Predicted [18.65641022] Miles, Diff_squared is [0.00318211]\n",
      "40 Kilometers equals 24.8 Miles, Model Predicted [24.9000206] Miles, Diff_squared is [0.01000412]\n",
      "50 Kilometers equals 31.0 Miles, Model Predicted [31.14362907] Miles, Diff_squared is [0.02062931]\n",
      "60 Kilometers equals 37.2 Miles, Model Predicted [37.38723755] Miles, Diff_squared is [0.0350579]\n",
      "70 Kilometers equals 43.4 Miles, Model Predicted [43.63085175] Miles, Diff_squared is [0.05329253]\n",
      "80 Kilometers equals 49.6 Miles, Model Predicted [49.8744545] Miles, Diff_squared is [0.07532527]\n",
      "90 Kilometers equals 55.8 Miles, Model Predicted [56.11806107] Miles, Diff_squared is [0.10116284]\n",
      "100 Kilometers equals 62.0 Miles, Model Predicted [62.36167526] Miles, Diff_squared is [0.130809]\n",
      "Total MSE is [0.0430576]\n",
      "None\n"
     ]
    }
   ],
   "source": [
    "print(test_model(model))"
   ]
  },
  {
   "cell_type": "code",
   "execution_count": null,
   "metadata": {},
   "outputs": [],
   "source": []
  }
 ],
 "metadata": {
  "kernelspec": {
   "display_name": "Python 3",
   "language": "python",
   "name": "python3"
  },
  "language_info": {
   "codemirror_mode": {
    "name": "ipython",
    "version": 3
   },
   "file_extension": ".py",
   "mimetype": "text/x-python",
   "name": "python",
   "nbconvert_exporter": "python",
   "pygments_lexer": "ipython3",
   "version": "3.6.9"
  }
 },
 "nbformat": 4,
 "nbformat_minor": 2
}
